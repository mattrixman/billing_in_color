{
 "cells": [
  {
   "cell_type": "markdown",
   "metadata": {},
   "source": [
    "## Merchant chage visualizer\n",
    "\n",
    "This notebook allows the user to pick a merchant and a month.  It will visualize the accumulation of charges for that merchant across the days of that month.\n",
    "\n",
    "It displays three types of charges.  Graphs for each type will appear with a different color.\n",
    " - <font color='#43b02a'>(green)</font> Monthly Plan charges\n",
    " - <font color='#b0602a'>(orange)</font> App Subscription charges\n",
    " - <font color='#972ab0'>(purple)</font> App Metered events\n",
    "\n",
    "\n",
    "To get started, populate the variables in the cell below."
   ]
  },
  {
   "cell_type": "code",
   "execution_count": 240,
   "metadata": {},
   "outputs": [],
   "source": [
    "#### edit these ###\n",
    "\n",
    "db_user=\"testMetaRO\"\n",
    "db_host=\"localhost\"\n",
    "db_name=\"nov_meta\"\n",
    "\n",
    "merchant=194013\n",
    "month=11\n",
    "year=2017\n",
    "\n",
    "###################\n",
    "\n",
    "plan_color='#43b02a'\n",
    "\n",
    "app_sub_color_1='#b39501'\n",
    "app_sub_color_2='#b0812a'\n",
    "app_sub_color_3='#b03b00'\n",
    "\n",
    "app_meter_color_1='#972ab0'\n",
    "app_meter_color_2='#b02a86'\n",
    "app_meter_color_3='#552ab0'\n",
    "\n",
    "import MySQLdb\n",
    "import calendar\n",
    "\n",
    "db = MySQLdb.connect(user=db_user, host=db_host, db=db_name, passwd=\"test\")\n",
    "\n",
    "num_days = calendar.monthrange(year, month)[1]\n",
    "\n",
    "days = range(num_days + 1)\n",
    "\n",
    "# Holds the series data for a particular charge type\n",
    "class Curve:\n",
    "    def __init__(self, days_into_billing_cycle, charges_so_far):\n",
    "        self.days = days_into_billing_cycle\n",
    "        self.charges = charges_so_far"
   ]
  },
  {
   "cell_type": "markdown",
   "metadata": {},
   "source": [
    "### Plan charges\n",
    "\n",
    "When Clover charges a merchant for use of a plan, we do so at the beginning of the month, and in advance of the actual usage.  This means that if a merchant changes to their plan, Clover must keep track of those changes and apply them to the *following* billing cycle.\n",
    "\n"
   ]
  },
  {
   "cell_type": "code",
   "execution_count": 241,
   "metadata": {},
   "outputs": [],
   "source": [
    "query = db.cursor()\n",
    "query.execute(\n",
    "    \"\"\"\n",
    "    SELECT amount, plan_charge_type                \n",
    "        FROM charge                                                                 \n",
    "        INNER JOIN merchant_plan_charge                                             \n",
    "            ON merchant_plan_charge.charge_id = charge.id                           \n",
    "    WHERE merchant_id = {}                                                      \n",
    "    AND MONTH(merchant_plan_charge.created_time) = {}\n",
    "    ;             \n",
    "     \"\"\".format(merchant, month))\n",
    "\n",
    "# The algorithm below is an approximation of the real adjustment algorithm\n",
    "# TODO: use the real adjustment algoritm\n",
    "\n",
    "curr_month_debits = 0\n",
    "prev_month_credits = 0\n",
    "\n",
    "for amount, charge_type in query.fetchall():\n",
    "    if charge_type == 'ADJUSTMENT':\n",
    "        prev_month_credits += amount;\n",
    "    elif charge_type == 'ADVANCE':\n",
    "        curr_month_debits += amount;\n",
    "    else:\n",
    "        raise ValueError(\"Unexpected charge type: {}\".format(charge_type))\n",
    "\n",
    "m = (curr_month_debits + prev_month_credits) / num_days\n",
    "\n",
    "b = -prev_month_credits\n",
    "\n",
    "# at 0 this gives the total adjustment amount from the previous month\n",
    "# at <last day in month> it gives the total billed amount\n",
    "# it is linear in between\n",
    "def f(x):\n",
    "    return m * x + b\n",
    "\n",
    "plan = Curve(days,                                  # X values\n",
    "            [round(f(x) / 100, 2) for x in days])   # Y values\n"
   ]
  },
  {
   "cell_type": "markdown",
   "metadata": {},
   "source": [
    "#### Plan Charge Interpolation\n",
    "\n",
    "Subscription charges and metered events occur every day, so it makes sense to view their accumulation across the days of the billing cycle.  On the other hand, Plan charges only occur once per month.  In order to view all charges on the same graph, it will be convenient if we can *pretend* that they occur daily.  Here we will inerpolate the plan charges daily.\n",
    "\n",
    "The value on the left side represents the adjustments that they merchant is due from activity in the previous month (if any).  The value on the right side represents the total plan-related charges for that month.  If the value is zero at some point then the prorated plan charges for the current month are equal to the adjustments from the previous month.\n"
   ]
  },
  {
   "cell_type": "code",
   "execution_count": 242,
   "metadata": {},
   "outputs": [
    {
     "data": {
      "image/png": "[encoded data removed]",
      "text/plain": [
       "<matplotlib.figure.Figure at 0x7fef21268a58>"
      ]
     },
     "metadata": {},
     "output_type": "display_data"
    }
   ],
   "source": [
    "# library\n",
    "%matplotlib inline\n",
    "import numpy as np\n",
    "import matplotlib.pyplot as plt\n",
    " \n",
    "# Data\n",
    "x=plan.days\n",
    "y=[plan.charges]\n",
    " \n",
    "# Plot\n",
    "fig = plt.figure(figsize=(15,7))\n",
    "\n",
    "plt.stackplot(x,y, labels=['Plan'], colors=[plan_color])\n",
    "\n",
    "plt.axhline(0, color='black')\n",
    "plt.ylabel('Merchant Balance ($)')\n",
    "plt.xlabel('Day in billing cycle')\n",
    "#plt.legend(loc='upper left')\n",
    "plt.show()\n",
    "\n"
   ]
  },
  {
   "cell_type": "markdown",
   "metadata": {},
   "source": [
    "### App Subscription Charges\n",
    "\n",
    "... description here ..."
   ]
  },
  {
   "cell_type": "code",
   "execution_count": 243,
   "metadata": {},
   "outputs": [],
   "source": [
    "query.execute(\n",
    "    \"\"\"\n",
    "    SELECT app_id, amount, status, DAY(ma.created_time)                                                     \n",
    "    FROM app_subscription_event_archive asea                                                                        \n",
    "        JOIN merchant_app ma                                                                                        \n",
    "            ON ma.id = asea.merchant_app_id                                                                         \n",
    "            AND ma.merchant_id = {}                                                                              \n",
    "        JOIN charge c                                                                                               \n",
    "            ON c.id = asea.app_line_item_id                                                                         \n",
    "    WHERE MONTH(ma.created_time) = {} AND YEAR(ma.created_time) = {}\n",
    "    ORDER BY ma.created_time  \n",
    "    ;             \n",
    "     \"\"\".format(merchant, month, year))\n",
    "\n",
    "\n",
    "# TODO: check the algorithm below\n",
    "# TODO: factor in trials\n",
    "\n",
    "\n",
    "charges_by_app = {}\n",
    "for app, amount, status, day in query.fetchall():\n",
    "    charges_by_app.setdefault(app, 0)\n",
    "    \n",
    "    # these look inverted, but otherwise I get negatives, wtf?\n",
    "    if status == 'DISPURSED':\n",
    "        charges_by_app[app] -= amount\n",
    "    elif status == 'CANCELED':\n",
    "        charges_by_app[app] += amount\n",
    "        \n",
    "curves_by_app = {}\n",
    "for app, charge in charges_by_app.items():\n",
    "\n",
    "    m = (charge) / num_days\n",
    "    b = 0\n",
    "    subscr = Curve(days,                                  # X values\n",
    "                 [round(f(x) / 100, 2) for x in days])   # Y values\n",
    "    \n",
    "    curves_by_app[app] = subscr\n",
    "    \n",
    "show_app_subscriptions = False\n",
    "if any(curves_by_app.keys()):\n",
    "    show_app_subscriptions = True\n",
    "    \n",
    "        "
   ]
  },
  {
   "cell_type": "code",
   "execution_count": 244,
   "metadata": {},
   "outputs": [
    {
     "name": "stdout",
     "output_type": "stream",
     "text": [
      "No app subscriptions to show\n"
     ]
    }
   ],
   "source": [
    "# library\n",
    "%matplotlib inline\n",
    "import numpy as np\n",
    "import matplotlib.pyplot as plt\n",
    "\n",
    "if show_app_subscriptions:\n",
    "    # Data\n",
    "    x=plan.days\n",
    "    y = [curve.charges for curve in curves_by_app.values()]\n",
    "\n",
    "    # Plot\n",
    "    fig = plt.figure(figsize=(15,7))\n",
    "\n",
    "    plt.stackplot(x,y, labels=list(curves_by_app.keys()), \n",
    "                       colors=[app_sub_color_1,  app_sub_color_2,  app_sub_color_3])\n",
    "\n",
    "    plt.axhline(0, color='black')\n",
    "    plt.ylabel('Merchant Balance ($)')\n",
    "    plt.xlabel('Day in billing cycle')\n",
    "    plt.legend(loc='upper left')\n",
    "    plt.show()\n",
    "else:\n",
    "    print(\"No app subscriptions to show\")"
   ]
  },
  {
   "cell_type": "code",
   "execution_count": 245,
   "metadata": {},
   "outputs": [
    {
     "name": "stdout",
     "output_type": "stream",
     "text": [
      "No app subscriptions to show\n"
     ]
    }
   ],
   "source": [
    "# library\n",
    "%matplotlib inline\n",
    "import numpy as np\n",
    "import matplotlib.pyplot as plt\n",
    "\n",
    "if show_app_subscriptions:\n",
    "    # Data\n",
    "    x=plan.days\n",
    "    y = [curve.charges for curve in curves_by_app.values()] + [plan.charges]\n",
    "    \n",
    "    print(y)\n",
    "\n",
    "    # Plot\n",
    "    fig = plt.figure(figsize=(15,7))\n",
    "\n",
    "    plt.stackplot(x,y, labels=list(curves_by_app.keys()), \n",
    "                       colors=[app_sub_color_1,  app_sub_color_2,  app_sub_color_3])\n",
    "\n",
    "    plt.axhline(0, color='black')\n",
    "    plt.ylabel('Merchant Balance ($)')\n",
    "    plt.xlabel('Day in billing cycle')\n",
    "    plt.legend(loc='upper left')\n",
    "    plt.show()\n",
    "else:\n",
    "    print(\"No app subscriptions to show\")"
   ]
  },
  {
   "cell_type": "code",
   "execution_count": null,
   "metadata": {},
   "outputs": [],
   "source": []
  }
 ],
 "metadata": {
  "kernelspec": {
   "display_name": "billing_in_color",
   "language": "python",
   "name": "billing_in_color"
  },
  "language_info": {
   "codemirror_mode": {
    "name": "ipython",
    "version": 3
   },
   "file_extension": ".py",
   "mimetype": "text/x-python",
   "name": "python",
   "nbconvert_exporter": "python",
   "pygments_lexer": "ipython3",
   "version": "3.5.2"
  }
 },
 "nbformat": 4,
 "nbformat_minor": 2
}
