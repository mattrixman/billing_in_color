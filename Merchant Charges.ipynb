{
 "cells": [
  {
   "cell_type": "markdown",
   "metadata": {},
   "source": [
    "## Merchant chage visualizer\n",
    "\n",
    "This notebook allows the user to pick a merchant and a month.  It will visualize the accumulation of charges for that merchant across the days of that month.\n",
    "\n",
    "It displays three types of charges.  Graphs for each type will appear with a different color.\n",
    " - <font color='#43b02a'>(green)</font> Monthly Plan charges\n",
    " - <font color='#b0602a'>(orange)</font> App Subscription charges\n",
    " - <font color='#972ab0'>(purple)</font> App Metered events\n",
    "\n",
    "\n",
    "To get started, populate the variables in the cell below."
   ]
  },
  {
   "cell_type": "code",
   "execution_count": 56,
   "metadata": {},
   "outputs": [],
   "source": [
    "#### edit these ###\n",
    "\n",
    "db_user=\"testMetaRO\"\n",
    "db_host=\"localhost\"\n",
    "db_name=\"nov_meta\"\n",
    "merchant=194013\n",
    "month=12\n",
    "year=2017\n",
    "\n",
    "###################\n",
    "\n",
    "\n",
    "import MySQLdb\n",
    "import calendar\n",
    "\n",
    "db = MySQLdb.connect(user=db_user, host=db_host, db=db_name, passwd=\"test\")\n",
    "\n",
    "num_days = calendar.monthrange(year, month)[1]\n",
    "\n",
    "days = range(num_days + 1)\n",
    "\n",
    "# Holds the series data for a particular charge type\n",
    "class Curve:\n",
    "    def __init__(self, days_into_billing_cycle, charges_so_far):\n",
    "        self.days = days_into_billing_cycle\n",
    "        self.charges = charges_so_far"
   ]
  },
  {
   "cell_type": "markdown",
   "metadata": {},
   "source": [
    "### Plan charges\n",
    "\n",
    "When Clover charges a merchant for use of a plan, we do so at the beginning of the month, and in advance of the actual usage.  This means that if a merchant changes to their plan, Clover must keep track of those changes and apply them to the *following* billing cycle.\n",
    "\n"
   ]
  },
  {
   "cell_type": "code",
   "execution_count": 57,
   "metadata": {},
   "outputs": [],
   "source": [
    "query = db.cursor()\n",
    "query.execute(\n",
    "    \"\"\"\n",
    "    SELECT amount, plan_charge_type                \n",
    "        FROM charge                                                                 \n",
    "        INNER JOIN merchant_plan_charge                                             \n",
    "            ON merchant_plan_charge.charge_id = charge.id                           \n",
    "    WHERE merchant_id = {}                                                      \n",
    "    AND MONTH(merchant_plan_charge.created_time) = {}\n",
    "    ;             \n",
    "     \"\"\".format(merchant, month))\n",
    "\n",
    "# The algorithm below is an approximation of the real adjustment algorithm\n",
    "# TODO: use the real adjustment algoritm\n",
    "\n",
    "curr_month_debits = 0\n",
    "prev_month_credits = 0\n",
    "\n",
    "for amount, charge_type in query.fetchall():\n",
    "    if charge_type == 'ADJUSTMENT':\n",
    "        prev_month_credits += amount;\n",
    "    elif charge_type == 'ADVANCE':\n",
    "        curr_month_debits += amount;\n",
    "    else:\n",
    "        raise ValueError(\"Unexpected charge type: {}\".format(charge_type))\n",
    "\n",
    "m = (curr_month_debits + prev_month_credits) / num_days\n",
    "\n",
    "b = -prev_month_credits\n",
    "\n",
    "# at 0 this gives the total adjustment amount from the previous month\n",
    "# at <last day in month> it gives the total billed amount\n",
    "# it is linear in between\n",
    "def f(x):\n",
    "    return m * x + b\n",
    "\n",
    "plan = Curve(days,                                  # X values\n",
    "            [round(f(x) / 100, 2) for x in days])   # Y values\n"
   ]
  },
  {
   "cell_type": "markdown",
   "metadata": {},
   "source": [
    "#### Plan Charge Interpolation\n",
    "\n",
    "Subscription charges and metered events occur every day, so it makes sense to view their accumulation across the days of the billing cycle.  On the other hand, Plan charges only occur once per month.  In order to view all charges on the same graph, it will be convenient if we can *pretend* that they occur daily.  Here we will inerpolate the plan charges daily.\n",
    "\n",
    "The value on the left side represents the adjustments that they merchant is due from activity in the previous month (if any).  The value on the right side represents the total plan-related charges for that month.  If the value is zero at some point then the prorated plan charges for the current month are equal to the adjustments from the previous month.\n"
   ]
  },
  {
   "cell_type": "code",
   "execution_count": 112,
   "metadata": {},
   "outputs": [
    {
     "data": {
      "image/png": "[encoded data removed]",
      "text/plain": [
       "<matplotlib.figure.Figure at 0x7f5fed952e48>"
      ]
     },
     "metadata": {},
     "output_type": "display_data"
    }
   ],
   "source": [
    "# library\n",
    "%matplotlib inline\n",
    "import numpy as np\n",
    "import matplotlib.pyplot as plt\n",
    " \n",
    "# Data\n",
    "x=plan.days\n",
    "y=[plan.charges, [10] * (num_days + 1)]\n",
    " \n",
    "# Plot\n",
    "fig = plt.figure(figsize=(13,7))\n",
    "\n",
    "plt.stackplot(x,y, labels=['Plan'], colors=['#43b02a', '#b0602a', '#972ab0'])\n",
    "\n",
    "y=[[10] * (num_days + 1)]\n",
    "plt.stackplot(x,y, labels=['Plan'], colors=['#b0602a', '#972ab0'])\n",
    "\n",
    "plt.axhline(0, color='black')\n",
    "plt.ylabel('Merchant Balance ($)')\n",
    "plt.xlabel('Day in billing cycle')\n",
    "#plt.legend(loc='upper left')\n",
    "plt.show()\n",
    "\n"
   ]
  },
  {
   "cell_type": "code",
   "execution_count": null,
   "metadata": {},
   "outputs": [],
   "source": []
  }
 ],
 "metadata": {
  "kernelspec": {
   "display_name": "billing_in_color",
   "language": "python",
   "name": "billing_in_color"
  },
  "language_info": {
   "codemirror_mode": {
    "name": "ipython",
    "version": 3
   },
   "file_extension": ".py",
   "mimetype": "text/x-python",
   "name": "python",
   "nbconvert_exporter": "python",
   "pygments_lexer": "ipython3",
   "version": "3.5.2"
  }
 },
 "nbformat": 4,
 "nbformat_minor": 2
}
