{
 "cells": [
  {
   "cell_type": "code",
   "execution_count": 8,
   "metadata": {},
   "outputs": [
    {
     "name": "stdout",
     "output_type": "stream",
     "text": [
      "17970 ADVANCE\n",
      "7587 ADJUSTMENT\n",
      "798 ADJUSTMENT\n",
      "499 ADJUSTMENT\n",
      "200 ADJUSTMENT\n",
      "100 ADJUSTMENT\n",
      "400 ADJUSTMENT\n",
      "399 ADJUSTMENT\n",
      "3394 ADJUSTMENT\n",
      "2995 ADVANCE\n"
     ]
    }
   ],
   "source": [
    "\n",
    "db_host=\"localhost\"\n",
    "db_name=\"nov_meta\"\n",
    "merchant=194013\n",
    "month=12\n",
    "year=2017\n",
    "\n",
    "import IPython\n",
    "\n",
    "import MySQLdb\n",
    "import calendar\n",
    "\n",
    "class Context:\n",
    "    def __init__(self, db_user, db_host, db_name, merchant_id, month, year):\n",
    "        self.merchant=merchant_id\n",
    "        self.month=month\n",
    "        self.year=year\n",
    "        self.db = MySQLdb.connect(user=db_user, host=db_host, db=db_name, passwd=\"test\")\n",
    "\n",
    "\n",
    "def net_montly_plan_charge_per_day(target):\n",
    "\n",
    "    days_in_month = calendar.monthrange(target.year, target.month)[1]\n",
    "\n",
    "    cursor = target.db.cursor()\n",
    "    cursor.execute(\n",
    "        \"\"\"\n",
    "        SELECT amount, plan_charge_type                \n",
    "            FROM charge                                                                 \n",
    "            INNER JOIN merchant_plan_charge                                             \n",
    "                ON merchant_plan_charge.charge_id = charge.id                           \n",
    "        WHERE merchant_id = {}                                                      \n",
    "        AND MONTH(merchant_plan_charge.created_time) = {}\n",
    "        ORDER BY merchant_plan_charge.created_time DESC                                 \n",
    "        ;             \n",
    "         \"\"\".format(target.merchant, target.month))\n",
    "\n",
    "    owes=0\n",
    "    is_owed=0\n",
    "    for amount, charge_type in cursor.fetchall():\n",
    "        print(amount, charge_type)\n",
    "        if charge_type == 'ADJUSTMENT':\n",
    "            is_owed += amount;\n",
    "        elif charge_type == 'ADVANCE':\n",
    "            owes += amount;\n",
    "        else:\n",
    "            raise ValueError(\"Unexpected charge type: {}\".format(charge_type))\n",
    "\n",
    "    m = owes/days_in_month;\n",
    "    b = -is_owed\n",
    "\n",
    "    # at 0 this gives the total adjustment amount\n",
    "    # at <last day in month> it gives the total billed amount\n",
    "    # it is linear in between\n",
    "    def f(x):\n",
    "        return m * x + b\n",
    "\n",
    "    return [f(x) for x in range(days_in_month)]\n",
    "\n",
    "context = Context('testMetaRO', db_host, db_name, merchant, month, year)\n",
    "plan_days = net_montly_plan_charge_per_day(context)\n"
   ]
  },
  {
   "cell_type": "code",
   "execution_count": 9,
   "metadata": {},
   "outputs": [
    {
     "name": "stdout",
     "output_type": "stream",
     "text": [
      "[-13377.0, -12700.709677419354, -12024.41935483871, -11348.129032258064, -10671.83870967742, -9995.548387096775, -9319.258064516129, -8642.967741935485, -7966.677419354839, -7290.387096774194, -6614.096774193549, -5937.806451612903, -5261.5161290322585, -4585.225806451614, -3908.935483870968, -3232.645161290324, -2556.354838709678, -1880.0645161290322, -1203.7741935483882, -527.4838709677424, 148.80645161290158, 825.0967741935474, 1501.3870967741932, 2177.677419354837, 2853.967741935483, 3530.258064516129, 4206.548387096773, 4882.838709677417, 5559.129032258064, 6235.419354838708, 6911.709677419352]\n"
     ]
    }
   ],
   "source": [
    "print(plan_days)"
   ]
  },
  {
   "cell_type": "markdown",
   "metadata": {},
   "source": [
    "#words\n",
    "this is some text\n",
    "```sql\n",
    "FROM user SELECT User, Host\n",
    "```"
   ]
  },
  {
   "cell_type": "code",
   "execution_count": 8,
   "metadata": {},
   "outputs": [
    {
     "data": {
      "text/plain": [
       "{'data': '$f_r = 2$ GHz', 'filename': None, 'metadata': {}, 'url': None}"
      ]
     },
     "execution_count": 8,
     "metadata": {},
     "output_type": "execute_result"
    }
   ],
   "source": [
    "_.__dict__\n",
    "\n",
    "\n"
   ]
  },
  {
   "cell_type": "code",
   "execution_count": null,
   "metadata": {},
   "outputs": [],
   "source": []
  }
 ],
 "metadata": {
  "kernelspec": {
   "display_name": "billing_in_color",
   "language": "python",
   "name": "billing_in_color"
  },
  "language_info": {
   "codemirror_mode": {
    "name": "ipython",
    "version": 3
   },
   "file_extension": ".py",
   "mimetype": "text/x-python",
   "name": "python",
   "nbconvert_exporter": "python",
   "pygments_lexer": "ipython3",
   "version": "3.5.2"
  }
 },
 "nbformat": 4,
 "nbformat_minor": 2
}
